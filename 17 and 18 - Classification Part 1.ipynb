{
 "cells": [
  {
   "cell_type": "code",
   "execution_count": 1,
   "metadata": {},
   "outputs": [],
   "source": [
    "import pandas as pd"
   ]
  },
  {
   "cell_type": "markdown",
   "metadata": {},
   "source": [
    "## 1. Create a simple text dataset"
   ]
  },
  {
   "cell_type": "code",
   "execution_count": 2,
   "metadata": {},
   "outputs": [
    {
     "data": {
      "text/html": [
       "<div>\n",
       "<style scoped>\n",
       "    .dataframe tbody tr th:only-of-type {\n",
       "        vertical-align: middle;\n",
       "    }\n",
       "\n",
       "    .dataframe tbody tr th {\n",
       "        vertical-align: top;\n",
       "    }\n",
       "\n",
       "    .dataframe thead th {\n",
       "        text-align: right;\n",
       "    }\n",
       "</style>\n",
       "<table border=\"1\" class=\"dataframe\">\n",
       "  <thead>\n",
       "    <tr style=\"text-align: right;\">\n",
       "      <th></th>\n",
       "      <th>sentence</th>\n",
       "      <th>tag</th>\n",
       "    </tr>\n",
       "  </thead>\n",
       "  <tbody>\n",
       "    <tr>\n",
       "      <th>0</th>\n",
       "      <td>A great game!</td>\n",
       "      <td>Sports</td>\n",
       "    </tr>\n",
       "    <tr>\n",
       "      <th>1</th>\n",
       "      <td>The election was over.</td>\n",
       "      <td>Non Sports</td>\n",
       "    </tr>\n",
       "    <tr>\n",
       "      <th>2</th>\n",
       "      <td>A very clean match.</td>\n",
       "      <td>Sports</td>\n",
       "    </tr>\n",
       "    <tr>\n",
       "      <th>3</th>\n",
       "      <td>A clean but forgettable game.</td>\n",
       "      <td>Sports</td>\n",
       "    </tr>\n",
       "    <tr>\n",
       "      <th>4</th>\n",
       "      <td>It was a close election.</td>\n",
       "      <td>Non Sports</td>\n",
       "    </tr>\n",
       "    <tr>\n",
       "      <th>5</th>\n",
       "      <td>The match was exciting!</td>\n",
       "      <td>Sports</td>\n",
       "    </tr>\n",
       "    <tr>\n",
       "      <th>6</th>\n",
       "      <td>Are you game?</td>\n",
       "      <td>Sports</td>\n",
       "    </tr>\n",
       "    <tr>\n",
       "      <th>7</th>\n",
       "      <td>Every single vote counts.</td>\n",
       "      <td>Non Sports</td>\n",
       "    </tr>\n",
       "    <tr>\n",
       "      <th>8</th>\n",
       "      <td>Have you voted yet?</td>\n",
       "      <td>Non Sports</td>\n",
       "    </tr>\n",
       "    <tr>\n",
       "      <th>9</th>\n",
       "      <td>The election results will be out soon.</td>\n",
       "      <td>Non Sports</td>\n",
       "    </tr>\n",
       "  </tbody>\n",
       "</table>\n",
       "</div>"
      ],
      "text/plain": [
       "                                 sentence         tag\n",
       "0                           A great game!      Sports\n",
       "1                  The election was over.  Non Sports\n",
       "2                     A very clean match.      Sports\n",
       "3           A clean but forgettable game.      Sports\n",
       "4                It was a close election.  Non Sports\n",
       "5                 The match was exciting!      Sports\n",
       "6                           Are you game?      Sports\n",
       "7               Every single vote counts.  Non Sports\n",
       "8                     Have you voted yet?  Non Sports\n",
       "9  The election results will be out soon.  Non Sports"
      ]
     },
     "execution_count": 2,
     "metadata": {},
     "output_type": "execute_result"
    }
   ],
   "source": [
    "df_training_raw_data = pd.DataFrame({'sentence': [\n",
    "                                        'A great game!', \n",
    "                                        'The election was over.', \n",
    "                                        'A very clean match.', \n",
    "                                        'A clean but forgettable game.', \n",
    "                                        'It was a close election.',\n",
    "                                        'The match was exciting!',\n",
    "                                        'Are you game?',\n",
    "                                        'Every single vote counts.',\n",
    "                                        'Have you voted yet?',\n",
    "                                        'The election results will be out soon.'], \n",
    "                                     'tag': [\n",
    "                                         'Sports', \n",
    "                                         'Non Sports', \n",
    "                                         'Sports', \n",
    "                                         'Sports', \n",
    "                                         'Non Sports',\n",
    "                                         'Sports',\n",
    "                                         'Sports',\n",
    "                                         'Non Sports',\n",
    "                                         'Non Sports',\n",
    "                                         'Non Sports']})\n",
    "df_training_raw_data"
   ]
  },
  {
   "cell_type": "markdown",
   "metadata": {},
   "source": [
    "## 2. Preprocessing"
   ]
  },
  {
   "cell_type": "markdown",
   "metadata": {},
   "source": [
    "### 2.1 Converting the tags to numbers"
   ]
  },
  {
   "cell_type": "code",
   "execution_count": 3,
   "metadata": {},
   "outputs": [],
   "source": [
    "df_training_raw_data['num_tag'] = df_training_raw_data.tag.astype('category')\n",
    "df_training_raw_data.num_tag = df_training_raw_data.num_tag.cat.codes"
   ]
  },
  {
   "cell_type": "markdown",
   "metadata": {},
   "source": [
    "### 2.2 Cleaning the text"
   ]
  },
  {
   "cell_type": "code",
   "execution_count": 4,
   "metadata": {},
   "outputs": [],
   "source": [
    "import spacy\n",
    "import string\n",
    "list_punctuation = [p for p in string.punctuation]\n",
    "spacy_nlp = spacy.load('en')\n",
    "\n",
    "def pre_process_text(str_text):\n",
    "    sp_text = spacy_nlp(str_text)\n",
    "    list_filtered_tokens = [token.lemma_ for token in sp_text if ((token.text.lower() not in spacy_nlp.Defaults.stop_words) and (token.text not in list_punctuation))]\n",
    "    return ' '.join(list_filtered_tokens)"
   ]
  },
  {
   "cell_type": "code",
   "execution_count": 5,
   "metadata": {},
   "outputs": [],
   "source": [
    "df_training_raw_data['sentence_cleaned'] = df_training_raw_data.sentence.apply(lambda x: pre_process_text(x))"
   ]
  },
  {
   "cell_type": "code",
   "execution_count": 6,
   "metadata": {},
   "outputs": [
    {
     "data": {
      "text/html": [
       "<div>\n",
       "<style scoped>\n",
       "    .dataframe tbody tr th:only-of-type {\n",
       "        vertical-align: middle;\n",
       "    }\n",
       "\n",
       "    .dataframe tbody tr th {\n",
       "        vertical-align: top;\n",
       "    }\n",
       "\n",
       "    .dataframe thead th {\n",
       "        text-align: right;\n",
       "    }\n",
       "</style>\n",
       "<table border=\"1\" class=\"dataframe\">\n",
       "  <thead>\n",
       "    <tr style=\"text-align: right;\">\n",
       "      <th></th>\n",
       "      <th>sentence</th>\n",
       "      <th>tag</th>\n",
       "      <th>num_tag</th>\n",
       "      <th>sentence_cleaned</th>\n",
       "    </tr>\n",
       "  </thead>\n",
       "  <tbody>\n",
       "    <tr>\n",
       "      <th>0</th>\n",
       "      <td>A great game!</td>\n",
       "      <td>Sports</td>\n",
       "      <td>1</td>\n",
       "      <td>great game</td>\n",
       "    </tr>\n",
       "    <tr>\n",
       "      <th>1</th>\n",
       "      <td>The election was over.</td>\n",
       "      <td>Non Sports</td>\n",
       "      <td>0</td>\n",
       "      <td>election</td>\n",
       "    </tr>\n",
       "    <tr>\n",
       "      <th>2</th>\n",
       "      <td>A very clean match.</td>\n",
       "      <td>Sports</td>\n",
       "      <td>1</td>\n",
       "      <td>clean match</td>\n",
       "    </tr>\n",
       "    <tr>\n",
       "      <th>3</th>\n",
       "      <td>A clean but forgettable game.</td>\n",
       "      <td>Sports</td>\n",
       "      <td>1</td>\n",
       "      <td>clean forgettable game</td>\n",
       "    </tr>\n",
       "    <tr>\n",
       "      <th>4</th>\n",
       "      <td>It was a close election.</td>\n",
       "      <td>Non Sports</td>\n",
       "      <td>0</td>\n",
       "      <td>close election</td>\n",
       "    </tr>\n",
       "    <tr>\n",
       "      <th>5</th>\n",
       "      <td>The match was exciting!</td>\n",
       "      <td>Sports</td>\n",
       "      <td>1</td>\n",
       "      <td>match exciting</td>\n",
       "    </tr>\n",
       "    <tr>\n",
       "      <th>6</th>\n",
       "      <td>Are you game?</td>\n",
       "      <td>Sports</td>\n",
       "      <td>1</td>\n",
       "      <td>game</td>\n",
       "    </tr>\n",
       "    <tr>\n",
       "      <th>7</th>\n",
       "      <td>Every single vote counts.</td>\n",
       "      <td>Non Sports</td>\n",
       "      <td>0</td>\n",
       "      <td>single vote count</td>\n",
       "    </tr>\n",
       "    <tr>\n",
       "      <th>8</th>\n",
       "      <td>Have you voted yet?</td>\n",
       "      <td>Non Sports</td>\n",
       "      <td>0</td>\n",
       "      <td>vote</td>\n",
       "    </tr>\n",
       "    <tr>\n",
       "      <th>9</th>\n",
       "      <td>The election results will be out soon.</td>\n",
       "      <td>Non Sports</td>\n",
       "      <td>0</td>\n",
       "      <td>election result soon</td>\n",
       "    </tr>\n",
       "  </tbody>\n",
       "</table>\n",
       "</div>"
      ],
      "text/plain": [
       "                                 sentence         tag  num_tag  \\\n",
       "0                           A great game!      Sports        1   \n",
       "1                  The election was over.  Non Sports        0   \n",
       "2                     A very clean match.      Sports        1   \n",
       "3           A clean but forgettable game.      Sports        1   \n",
       "4                It was a close election.  Non Sports        0   \n",
       "5                 The match was exciting!      Sports        1   \n",
       "6                           Are you game?      Sports        1   \n",
       "7               Every single vote counts.  Non Sports        0   \n",
       "8                     Have you voted yet?  Non Sports        0   \n",
       "9  The election results will be out soon.  Non Sports        0   \n",
       "\n",
       "         sentence_cleaned  \n",
       "0              great game  \n",
       "1                election  \n",
       "2             clean match  \n",
       "3  clean forgettable game  \n",
       "4          close election  \n",
       "5          match exciting  \n",
       "6                    game  \n",
       "7       single vote count  \n",
       "8                    vote  \n",
       "9    election result soon  "
      ]
     },
     "execution_count": 6,
     "metadata": {},
     "output_type": "execute_result"
    }
   ],
   "source": [
    "df_training_raw_data"
   ]
  },
  {
   "cell_type": "markdown",
   "metadata": {},
   "source": [
    "### 2.3 Text Representation using CountVectorizer() from sklearn"
   ]
  },
  {
   "cell_type": "code",
   "execution_count": 7,
   "metadata": {},
   "outputs": [],
   "source": [
    "from sklearn.feature_extraction.text import CountVectorizer\n",
    "count_vectorizer = CountVectorizer()\n",
    "count_vectorizer.fit(df_training_raw_data.sentence_cleaned.tolist())\n",
    "df_training_raw_data['sentence_vector'] = count_vectorizer.transform(df_training_raw_data.sentence_cleaned.tolist()).toarray().tolist()"
   ]
  },
  {
   "cell_type": "code",
   "execution_count": 8,
   "metadata": {},
   "outputs": [
    {
     "data": {
      "text/html": [
       "<div>\n",
       "<style scoped>\n",
       "    .dataframe tbody tr th:only-of-type {\n",
       "        vertical-align: middle;\n",
       "    }\n",
       "\n",
       "    .dataframe tbody tr th {\n",
       "        vertical-align: top;\n",
       "    }\n",
       "\n",
       "    .dataframe thead th {\n",
       "        text-align: right;\n",
       "    }\n",
       "</style>\n",
       "<table border=\"1\" class=\"dataframe\">\n",
       "  <thead>\n",
       "    <tr style=\"text-align: right;\">\n",
       "      <th></th>\n",
       "      <th>sentence</th>\n",
       "      <th>tag</th>\n",
       "      <th>num_tag</th>\n",
       "      <th>sentence_cleaned</th>\n",
       "      <th>sentence_vector</th>\n",
       "    </tr>\n",
       "  </thead>\n",
       "  <tbody>\n",
       "    <tr>\n",
       "      <th>0</th>\n",
       "      <td>A great game!</td>\n",
       "      <td>Sports</td>\n",
       "      <td>1</td>\n",
       "      <td>great game</td>\n",
       "      <td>[0, 0, 0, 0, 0, 0, 1, 1, 0, 0, 0, 0, 0]</td>\n",
       "    </tr>\n",
       "    <tr>\n",
       "      <th>1</th>\n",
       "      <td>The election was over.</td>\n",
       "      <td>Non Sports</td>\n",
       "      <td>0</td>\n",
       "      <td>election</td>\n",
       "      <td>[0, 0, 0, 1, 0, 0, 0, 0, 0, 0, 0, 0, 0]</td>\n",
       "    </tr>\n",
       "    <tr>\n",
       "      <th>2</th>\n",
       "      <td>A very clean match.</td>\n",
       "      <td>Sports</td>\n",
       "      <td>1</td>\n",
       "      <td>clean match</td>\n",
       "      <td>[1, 0, 0, 0, 0, 0, 0, 0, 1, 0, 0, 0, 0]</td>\n",
       "    </tr>\n",
       "    <tr>\n",
       "      <th>3</th>\n",
       "      <td>A clean but forgettable game.</td>\n",
       "      <td>Sports</td>\n",
       "      <td>1</td>\n",
       "      <td>clean forgettable game</td>\n",
       "      <td>[1, 0, 0, 0, 0, 1, 1, 0, 0, 0, 0, 0, 0]</td>\n",
       "    </tr>\n",
       "    <tr>\n",
       "      <th>4</th>\n",
       "      <td>It was a close election.</td>\n",
       "      <td>Non Sports</td>\n",
       "      <td>0</td>\n",
       "      <td>close election</td>\n",
       "      <td>[0, 1, 0, 1, 0, 0, 0, 0, 0, 0, 0, 0, 0]</td>\n",
       "    </tr>\n",
       "    <tr>\n",
       "      <th>5</th>\n",
       "      <td>The match was exciting!</td>\n",
       "      <td>Sports</td>\n",
       "      <td>1</td>\n",
       "      <td>match exciting</td>\n",
       "      <td>[0, 0, 0, 0, 1, 0, 0, 0, 1, 0, 0, 0, 0]</td>\n",
       "    </tr>\n",
       "    <tr>\n",
       "      <th>6</th>\n",
       "      <td>Are you game?</td>\n",
       "      <td>Sports</td>\n",
       "      <td>1</td>\n",
       "      <td>game</td>\n",
       "      <td>[0, 0, 0, 0, 0, 0, 1, 0, 0, 0, 0, 0, 0]</td>\n",
       "    </tr>\n",
       "    <tr>\n",
       "      <th>7</th>\n",
       "      <td>Every single vote counts.</td>\n",
       "      <td>Non Sports</td>\n",
       "      <td>0</td>\n",
       "      <td>single vote count</td>\n",
       "      <td>[0, 0, 1, 0, 0, 0, 0, 0, 0, 0, 1, 0, 1]</td>\n",
       "    </tr>\n",
       "    <tr>\n",
       "      <th>8</th>\n",
       "      <td>Have you voted yet?</td>\n",
       "      <td>Non Sports</td>\n",
       "      <td>0</td>\n",
       "      <td>vote</td>\n",
       "      <td>[0, 0, 0, 0, 0, 0, 0, 0, 0, 0, 0, 0, 1]</td>\n",
       "    </tr>\n",
       "    <tr>\n",
       "      <th>9</th>\n",
       "      <td>The election results will be out soon.</td>\n",
       "      <td>Non Sports</td>\n",
       "      <td>0</td>\n",
       "      <td>election result soon</td>\n",
       "      <td>[0, 0, 0, 1, 0, 0, 0, 0, 0, 1, 0, 1, 0]</td>\n",
       "    </tr>\n",
       "  </tbody>\n",
       "</table>\n",
       "</div>"
      ],
      "text/plain": [
       "                                 sentence         tag  num_tag  \\\n",
       "0                           A great game!      Sports        1   \n",
       "1                  The election was over.  Non Sports        0   \n",
       "2                     A very clean match.      Sports        1   \n",
       "3           A clean but forgettable game.      Sports        1   \n",
       "4                It was a close election.  Non Sports        0   \n",
       "5                 The match was exciting!      Sports        1   \n",
       "6                           Are you game?      Sports        1   \n",
       "7               Every single vote counts.  Non Sports        0   \n",
       "8                     Have you voted yet?  Non Sports        0   \n",
       "9  The election results will be out soon.  Non Sports        0   \n",
       "\n",
       "         sentence_cleaned                          sentence_vector  \n",
       "0              great game  [0, 0, 0, 0, 0, 0, 1, 1, 0, 0, 0, 0, 0]  \n",
       "1                election  [0, 0, 0, 1, 0, 0, 0, 0, 0, 0, 0, 0, 0]  \n",
       "2             clean match  [1, 0, 0, 0, 0, 0, 0, 0, 1, 0, 0, 0, 0]  \n",
       "3  clean forgettable game  [1, 0, 0, 0, 0, 1, 1, 0, 0, 0, 0, 0, 0]  \n",
       "4          close election  [0, 1, 0, 1, 0, 0, 0, 0, 0, 0, 0, 0, 0]  \n",
       "5          match exciting  [0, 0, 0, 0, 1, 0, 0, 0, 1, 0, 0, 0, 0]  \n",
       "6                    game  [0, 0, 0, 0, 0, 0, 1, 0, 0, 0, 0, 0, 0]  \n",
       "7       single vote count  [0, 0, 1, 0, 0, 0, 0, 0, 0, 0, 1, 0, 1]  \n",
       "8                    vote  [0, 0, 0, 0, 0, 0, 0, 0, 0, 0, 0, 0, 1]  \n",
       "9    election result soon  [0, 0, 0, 1, 0, 0, 0, 0, 0, 1, 0, 1, 0]  "
      ]
     },
     "execution_count": 8,
     "metadata": {},
     "output_type": "execute_result"
    }
   ],
   "source": [
    "df_training_raw_data"
   ]
  },
  {
   "cell_type": "code",
   "execution_count": 9,
   "metadata": {},
   "outputs": [
    {
     "data": {
      "text/plain": [
       "{'great': 7,\n",
       " 'game': 6,\n",
       " 'election': 3,\n",
       " 'clean': 0,\n",
       " 'match': 8,\n",
       " 'forgettable': 5,\n",
       " 'close': 1,\n",
       " 'exciting': 4,\n",
       " 'single': 10,\n",
       " 'vote': 12,\n",
       " 'count': 2,\n",
       " 'result': 9,\n",
       " 'soon': 11}"
      ]
     },
     "execution_count": 9,
     "metadata": {},
     "output_type": "execute_result"
    }
   ],
   "source": [
    "count_vectorizer.vocabulary_ # word: index number"
   ]
  },
  {
   "cell_type": "markdown",
   "metadata": {},
   "source": [
    "## 3. Training and testing a GNB model"
   ]
  },
  {
   "cell_type": "code",
   "execution_count": 10,
   "metadata": {},
   "outputs": [],
   "source": [
    "from sklearn.naive_bayes import GaussianNB\n",
    "from sklearn.model_selection import train_test_split\n",
    "import numpy as np"
   ]
  },
  {
   "cell_type": "code",
   "execution_count": 11,
   "metadata": {},
   "outputs": [],
   "source": [
    "X_train, X_test, y_train, y_test = train_test_split(df_training_raw_data, df_training_raw_data.num_tag, random_state=0)"
   ]
  },
  {
   "cell_type": "code",
   "execution_count": 12,
   "metadata": {},
   "outputs": [
    {
     "data": {
      "text/html": [
       "<div>\n",
       "<style scoped>\n",
       "    .dataframe tbody tr th:only-of-type {\n",
       "        vertical-align: middle;\n",
       "    }\n",
       "\n",
       "    .dataframe tbody tr th {\n",
       "        vertical-align: top;\n",
       "    }\n",
       "\n",
       "    .dataframe thead th {\n",
       "        text-align: right;\n",
       "    }\n",
       "</style>\n",
       "<table border=\"1\" class=\"dataframe\">\n",
       "  <thead>\n",
       "    <tr style=\"text-align: right;\">\n",
       "      <th></th>\n",
       "      <th>sentence</th>\n",
       "      <th>tag</th>\n",
       "      <th>num_tag</th>\n",
       "      <th>sentence_cleaned</th>\n",
       "      <th>sentence_vector</th>\n",
       "    </tr>\n",
       "  </thead>\n",
       "  <tbody>\n",
       "    <tr>\n",
       "      <th>9</th>\n",
       "      <td>The election results will be out soon.</td>\n",
       "      <td>Non Sports</td>\n",
       "      <td>0</td>\n",
       "      <td>election result soon</td>\n",
       "      <td>[0, 0, 0, 1, 0, 0, 0, 0, 0, 1, 0, 1, 0]</td>\n",
       "    </tr>\n",
       "    <tr>\n",
       "      <th>1</th>\n",
       "      <td>The election was over.</td>\n",
       "      <td>Non Sports</td>\n",
       "      <td>0</td>\n",
       "      <td>election</td>\n",
       "      <td>[0, 0, 0, 1, 0, 0, 0, 0, 0, 0, 0, 0, 0]</td>\n",
       "    </tr>\n",
       "    <tr>\n",
       "      <th>6</th>\n",
       "      <td>Are you game?</td>\n",
       "      <td>Sports</td>\n",
       "      <td>1</td>\n",
       "      <td>game</td>\n",
       "      <td>[0, 0, 0, 0, 0, 0, 1, 0, 0, 0, 0, 0, 0]</td>\n",
       "    </tr>\n",
       "    <tr>\n",
       "      <th>7</th>\n",
       "      <td>Every single vote counts.</td>\n",
       "      <td>Non Sports</td>\n",
       "      <td>0</td>\n",
       "      <td>single vote count</td>\n",
       "      <td>[0, 0, 1, 0, 0, 0, 0, 0, 0, 0, 1, 0, 1]</td>\n",
       "    </tr>\n",
       "    <tr>\n",
       "      <th>3</th>\n",
       "      <td>A clean but forgettable game.</td>\n",
       "      <td>Sports</td>\n",
       "      <td>1</td>\n",
       "      <td>clean forgettable game</td>\n",
       "      <td>[1, 0, 0, 0, 0, 1, 1, 0, 0, 0, 0, 0, 0]</td>\n",
       "    </tr>\n",
       "    <tr>\n",
       "      <th>0</th>\n",
       "      <td>A great game!</td>\n",
       "      <td>Sports</td>\n",
       "      <td>1</td>\n",
       "      <td>great game</td>\n",
       "      <td>[0, 0, 0, 0, 0, 0, 1, 1, 0, 0, 0, 0, 0]</td>\n",
       "    </tr>\n",
       "    <tr>\n",
       "      <th>5</th>\n",
       "      <td>The match was exciting!</td>\n",
       "      <td>Sports</td>\n",
       "      <td>1</td>\n",
       "      <td>match exciting</td>\n",
       "      <td>[0, 0, 0, 0, 1, 0, 0, 0, 1, 0, 0, 0, 0]</td>\n",
       "    </tr>\n",
       "  </tbody>\n",
       "</table>\n",
       "</div>"
      ],
      "text/plain": [
       "                                 sentence         tag  num_tag  \\\n",
       "9  The election results will be out soon.  Non Sports        0   \n",
       "1                  The election was over.  Non Sports        0   \n",
       "6                           Are you game?      Sports        1   \n",
       "7               Every single vote counts.  Non Sports        0   \n",
       "3           A clean but forgettable game.      Sports        1   \n",
       "0                           A great game!      Sports        1   \n",
       "5                 The match was exciting!      Sports        1   \n",
       "\n",
       "         sentence_cleaned                          sentence_vector  \n",
       "9    election result soon  [0, 0, 0, 1, 0, 0, 0, 0, 0, 1, 0, 1, 0]  \n",
       "1                election  [0, 0, 0, 1, 0, 0, 0, 0, 0, 0, 0, 0, 0]  \n",
       "6                    game  [0, 0, 0, 0, 0, 0, 1, 0, 0, 0, 0, 0, 0]  \n",
       "7       single vote count  [0, 0, 1, 0, 0, 0, 0, 0, 0, 0, 1, 0, 1]  \n",
       "3  clean forgettable game  [1, 0, 0, 0, 0, 1, 1, 0, 0, 0, 0, 0, 0]  \n",
       "0              great game  [0, 0, 0, 0, 0, 0, 1, 1, 0, 0, 0, 0, 0]  \n",
       "5          match exciting  [0, 0, 0, 0, 1, 0, 0, 0, 1, 0, 0, 0, 0]  "
      ]
     },
     "execution_count": 12,
     "metadata": {},
     "output_type": "execute_result"
    }
   ],
   "source": [
    "X_train"
   ]
  },
  {
   "cell_type": "code",
   "execution_count": 13,
   "metadata": {},
   "outputs": [
    {
     "data": {
      "text/html": [
       "<div>\n",
       "<style scoped>\n",
       "    .dataframe tbody tr th:only-of-type {\n",
       "        vertical-align: middle;\n",
       "    }\n",
       "\n",
       "    .dataframe tbody tr th {\n",
       "        vertical-align: top;\n",
       "    }\n",
       "\n",
       "    .dataframe thead th {\n",
       "        text-align: right;\n",
       "    }\n",
       "</style>\n",
       "<table border=\"1\" class=\"dataframe\">\n",
       "  <thead>\n",
       "    <tr style=\"text-align: right;\">\n",
       "      <th></th>\n",
       "      <th>sentence</th>\n",
       "      <th>tag</th>\n",
       "      <th>num_tag</th>\n",
       "      <th>sentence_cleaned</th>\n",
       "      <th>sentence_vector</th>\n",
       "    </tr>\n",
       "  </thead>\n",
       "  <tbody>\n",
       "    <tr>\n",
       "      <th>2</th>\n",
       "      <td>A very clean match.</td>\n",
       "      <td>Sports</td>\n",
       "      <td>1</td>\n",
       "      <td>clean match</td>\n",
       "      <td>[1, 0, 0, 0, 0, 0, 0, 0, 1, 0, 0, 0, 0]</td>\n",
       "    </tr>\n",
       "    <tr>\n",
       "      <th>8</th>\n",
       "      <td>Have you voted yet?</td>\n",
       "      <td>Non Sports</td>\n",
       "      <td>0</td>\n",
       "      <td>vote</td>\n",
       "      <td>[0, 0, 0, 0, 0, 0, 0, 0, 0, 0, 0, 0, 1]</td>\n",
       "    </tr>\n",
       "    <tr>\n",
       "      <th>4</th>\n",
       "      <td>It was a close election.</td>\n",
       "      <td>Non Sports</td>\n",
       "      <td>0</td>\n",
       "      <td>close election</td>\n",
       "      <td>[0, 1, 0, 1, 0, 0, 0, 0, 0, 0, 0, 0, 0]</td>\n",
       "    </tr>\n",
       "  </tbody>\n",
       "</table>\n",
       "</div>"
      ],
      "text/plain": [
       "                   sentence         tag  num_tag sentence_cleaned  \\\n",
       "2       A very clean match.      Sports        1      clean match   \n",
       "8       Have you voted yet?  Non Sports        0             vote   \n",
       "4  It was a close election.  Non Sports        0   close election   \n",
       "\n",
       "                           sentence_vector  \n",
       "2  [1, 0, 0, 0, 0, 0, 0, 0, 1, 0, 0, 0, 0]  \n",
       "8  [0, 0, 0, 0, 0, 0, 0, 0, 0, 0, 0, 0, 1]  \n",
       "4  [0, 1, 0, 1, 0, 0, 0, 0, 0, 0, 0, 0, 0]  "
      ]
     },
     "execution_count": 13,
     "metadata": {},
     "output_type": "execute_result"
    }
   ],
   "source": [
    "X_test"
   ]
  },
  {
   "cell_type": "code",
   "execution_count": 14,
   "metadata": {},
   "outputs": [
    {
     "data": {
      "text/plain": [
       "9    0\n",
       "1    0\n",
       "6    1\n",
       "7    0\n",
       "3    1\n",
       "0    1\n",
       "5    1\n",
       "Name: num_tag, dtype: int8"
      ]
     },
     "execution_count": 14,
     "metadata": {},
     "output_type": "execute_result"
    }
   ],
   "source": [
    "y_train"
   ]
  },
  {
   "cell_type": "code",
   "execution_count": 15,
   "metadata": {},
   "outputs": [
    {
     "data": {
      "text/plain": [
       "2    1\n",
       "8    0\n",
       "4    0\n",
       "Name: num_tag, dtype: int8"
      ]
     },
     "execution_count": 15,
     "metadata": {},
     "output_type": "execute_result"
    }
   ],
   "source": [
    "y_test"
   ]
  },
  {
   "cell_type": "code",
   "execution_count": 16,
   "metadata": {},
   "outputs": [
    {
     "data": {
      "text/plain": [
       "GaussianNB(priors=None, var_smoothing=1e-09)"
      ]
     },
     "execution_count": 16,
     "metadata": {},
     "output_type": "execute_result"
    }
   ],
   "source": [
    "gnb_model_1 = GaussianNB()\n",
    "gnb_model_1.fit(np.array(X_train.sentence_vector.tolist()), y_train)"
   ]
  },
  {
   "cell_type": "code",
   "execution_count": 17,
   "metadata": {},
   "outputs": [
    {
     "name": "stderr",
     "output_type": "stream",
     "text": [
      "/home/ngkpg/anaconda3/lib/python3.7/site-packages/ipykernel_launcher.py:2: SettingWithCopyWarning: \n",
      "A value is trying to be set on a copy of a slice from a DataFrame.\n",
      "Try using .loc[row_indexer,col_indexer] = value instead\n",
      "\n",
      "See the caveats in the documentation: https://pandas.pydata.org/pandas-docs/stable/user_guide/indexing.html#returning-a-view-versus-a-copy\n",
      "  \n"
     ]
    },
    {
     "data": {
      "text/html": [
       "<div>\n",
       "<style scoped>\n",
       "    .dataframe tbody tr th:only-of-type {\n",
       "        vertical-align: middle;\n",
       "    }\n",
       "\n",
       "    .dataframe tbody tr th {\n",
       "        vertical-align: top;\n",
       "    }\n",
       "\n",
       "    .dataframe thead th {\n",
       "        text-align: right;\n",
       "    }\n",
       "</style>\n",
       "<table border=\"1\" class=\"dataframe\">\n",
       "  <thead>\n",
       "    <tr style=\"text-align: right;\">\n",
       "      <th></th>\n",
       "      <th>sentence</th>\n",
       "      <th>tag</th>\n",
       "      <th>num_tag</th>\n",
       "      <th>sentence_cleaned</th>\n",
       "      <th>sentence_vector</th>\n",
       "      <th>y_hat</th>\n",
       "    </tr>\n",
       "  </thead>\n",
       "  <tbody>\n",
       "    <tr>\n",
       "      <th>2</th>\n",
       "      <td>A very clean match.</td>\n",
       "      <td>Sports</td>\n",
       "      <td>1</td>\n",
       "      <td>clean match</td>\n",
       "      <td>[1, 0, 0, 0, 0, 0, 0, 0, 1, 0, 0, 0, 0]</td>\n",
       "      <td>1</td>\n",
       "    </tr>\n",
       "    <tr>\n",
       "      <th>8</th>\n",
       "      <td>Have you voted yet?</td>\n",
       "      <td>Non Sports</td>\n",
       "      <td>0</td>\n",
       "      <td>vote</td>\n",
       "      <td>[0, 0, 0, 0, 0, 0, 0, 0, 0, 0, 0, 0, 1]</td>\n",
       "      <td>0</td>\n",
       "    </tr>\n",
       "    <tr>\n",
       "      <th>4</th>\n",
       "      <td>It was a close election.</td>\n",
       "      <td>Non Sports</td>\n",
       "      <td>0</td>\n",
       "      <td>close election</td>\n",
       "      <td>[0, 1, 0, 1, 0, 0, 0, 0, 0, 0, 0, 0, 0]</td>\n",
       "      <td>0</td>\n",
       "    </tr>\n",
       "  </tbody>\n",
       "</table>\n",
       "</div>"
      ],
      "text/plain": [
       "                   sentence         tag  num_tag sentence_cleaned  \\\n",
       "2       A very clean match.      Sports        1      clean match   \n",
       "8       Have you voted yet?  Non Sports        0             vote   \n",
       "4  It was a close election.  Non Sports        0   close election   \n",
       "\n",
       "                           sentence_vector  y_hat  \n",
       "2  [1, 0, 0, 0, 0, 0, 0, 0, 1, 0, 0, 0, 0]      1  \n",
       "8  [0, 0, 0, 0, 0, 0, 0, 0, 0, 0, 0, 0, 1]      0  \n",
       "4  [0, 1, 0, 1, 0, 0, 0, 0, 0, 0, 0, 0, 0]      0  "
      ]
     },
     "execution_count": 17,
     "metadata": {},
     "output_type": "execute_result"
    }
   ],
   "source": [
    "y_hat = gnb_model_1.predict(np.array(X_test.sentence_vector.tolist()))\n",
    "X_test['y_hat'] = y_hat\n",
    "X_test"
   ]
  },
  {
   "cell_type": "code",
   "execution_count": 18,
   "metadata": {},
   "outputs": [
    {
     "data": {
      "text/plain": [
       "array([[0, 1, 0, 0, 0, 0, 1, 0, 0, 0, 0, 0, 0],\n",
       "       [0, 0, 0, 1, 0, 0, 0, 0, 0, 0, 0, 0, 0],\n",
       "       [0, 0, 0, 1, 0, 0, 1, 0, 0, 0, 0, 0, 0]])"
      ]
     },
     "execution_count": 18,
     "metadata": {},
     "output_type": "execute_result"
    }
   ],
   "source": [
    "new_sentences = ['A very close game.', 'A new paradigm in elections.', 'Nice election game!']\n",
    "new_sentences_cleaned = [pre_process_text(ns) for ns in new_sentences]\n",
    "new_sentences_vector = count_vectorizer.transform(new_sentences_cleaned).toarray()\n",
    "new_sentences_vector"
   ]
  },
  {
   "cell_type": "code",
   "execution_count": 19,
   "metadata": {},
   "outputs": [
    {
     "data": {
      "text/plain": [
       "array([1, 0, 1], dtype=int8)"
      ]
     },
     "execution_count": 19,
     "metadata": {},
     "output_type": "execute_result"
    }
   ],
   "source": [
    "gnb_model_1.predict(new_sentences_vector)"
   ]
  }
 ],
 "metadata": {
  "kernelspec": {
   "display_name": "Python 3",
   "language": "python",
   "name": "python3"
  },
  "language_info": {
   "codemirror_mode": {
    "name": "ipython",
    "version": 3
   },
   "file_extension": ".py",
   "mimetype": "text/x-python",
   "name": "python",
   "nbconvert_exporter": "python",
   "pygments_lexer": "ipython3",
   "version": "3.7.6"
  }
 },
 "nbformat": 4,
 "nbformat_minor": 4
}
